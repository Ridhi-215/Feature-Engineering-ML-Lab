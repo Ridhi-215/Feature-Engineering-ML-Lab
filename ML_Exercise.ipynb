{
 "cells": [
  {
   "cell_type": "markdown",
   "id": "53e19fbf-33fc-4323-af4a-5605cdbc4e4c",
   "metadata": {},
   "source": [
    "# EXERCISE PROBLEMS"
   ]
  },
  {
   "cell_type": "markdown",
   "id": "8114647d-6e33-4036-bd56-50621a363fc7",
   "metadata": {},
   "source": [
    "## 1. Compute the Mean and Variance of a Vector"
   ]
  },
  {
   "cell_type": "markdown",
   "id": "d046bc79-ae25-49f9-a776-3d6d5486eae9",
   "metadata": {},
   "source": [
    "### Problem Statement:\n",
    "Create a vector (array) of 1xN dimension representing an N-dimensional feature vector of a sample. Write a program to compute the mean and variance of the elements present in the array."
   ]
  },
  {
   "cell_type": "code",
   "execution_count": 18,
   "id": "0c77bfd9-9e7f-4ad5-b807-2ff17b9703c2",
   "metadata": {},
   "outputs": [
    {
     "name": "stdout",
     "output_type": "stream",
     "text": [
      "Mean: 5.6\n",
      "Variance: 8.266666666666666\n"
     ]
    }
   ],
   "source": [
    "import numpy as np\n",
    "\n",
    "# Create a vector\n",
    "x = np.array([3, 7, 2, 9, 5, 4, 6, 8, 2, 10])\n",
    "\n",
    "# Calculate mean\n",
    "mean = np.mean(x)\n",
    "\n",
    "# Calculate variance\n",
    "variance = np.var(x, ddof=1)\n",
    "\n",
    "# Print the results\n",
    "print(\"Mean:\", mean)\n",
    "print(\"Variance:\", variance)"
   ]
  },
  {
   "cell_type": "markdown",
   "id": "35575b38-54f8-41e6-871a-55eb3154032d",
   "metadata": {},
   "source": [
    "## 2. Compute the Covariance between Two Vectors"
   ]
  },
  {
   "cell_type": "markdown",
   "id": "b94af3b7-eb95-4c80-85dd-555ce61bf0cb",
   "metadata": {},
   "source": [
    "### Problem Statement:\n",
    "Create two vectors each of dimension 1xM representing N-dimensional feature vectors of a sample. Write a program to compute the covariance between them."
   ]
  },
  {
   "cell_type": "code",
   "execution_count": 20,
   "id": "c5c1616e-813f-49cb-b36e-d9c8df4f1da2",
   "metadata": {},
   "outputs": [
    {
     "name": "stdout",
     "output_type": "stream",
     "text": [
      "Covariance: 8.88888888888889\n"
     ]
    }
   ],
   "source": [
    "import numpy as np\n",
    "\n",
    "# Sample vectors\n",
    "x = np.array([3, 7, 2, 9, 5, 4, 6, 8, 2, 10])\n",
    "y = np.array([1, 4, 2, 8, 5, 7, 3, 9, 0, 11])\n",
    "\n",
    "# Calculate covariance\n",
    "covariance = np.cov(x, y, ddof=1)[0, 1]\n",
    "\n",
    "# Print the result\n",
    "print(\"Covariance:\", covariance)\n"
   ]
  },
  {
   "cell_type": "markdown",
   "id": "a308c123-1374-45e9-aa91-c16be6f5dec2",
   "metadata": {},
   "source": [
    "## 3. Compute the Correlation between Two Vectors"
   ]
  },
  {
   "cell_type": "markdown",
   "id": "167a8c8e-59ad-410c-ac4f-29f5d1406e6d",
   "metadata": {},
   "source": [
    "### Problem Statement:\n",
    "Create two vectors each of dimension 1xN. Write a program to compute the correlation between them."
   ]
  },
  {
   "cell_type": "code",
   "execution_count": 29,
   "id": "5fa08501-5823-4a12-98b7-782608e91660",
   "metadata": {},
   "outputs": [
    {
     "name": "stdout",
     "output_type": "stream",
     "text": [
      "Correlation: 0.9999999999999999\n"
     ]
    }
   ],
   "source": [
    "import numpy as np\r\n",
    "\r\n",
    "# Sample vectors\r\n",
    "X = np.array([1, 2, 3, 4, 5])\r\n",
    "Y = np.array([2, 4, 6, 8, 10])\r\n",
    "\r\n",
    "# Calculate the correlation\r\n",
    "correlation = np.corrcoef(X, Y)[0, 1]\r\n",
    "\r\n",
    "# Print the result\r\n",
    "print(f\"Correlation: {correlation}\")\r\n"
   ]
  },
  {
   "cell_type": "markdown",
   "id": "f6c8e14f-ef12-42f8-a4b4-c9a28dfba579",
   "metadata": {},
   "source": [
    "## 4. Compute the Covariance Matrix and Correlation Matrix"
   ]
  },
  {
   "cell_type": "markdown",
   "id": "a725d220-bb28-42b9-b64e-d99f9001b38c",
   "metadata": {},
   "source": [
    "### Problem Statement:\n",
    "Create a matrix of MxN dimension representing the M-dimensional feature vector for N samples (i.e., the (i,j)th entry of the matrix represents the ith feature of the jth sample). Write a program to compute the covariance matrix and correlation matrix."
   ]
  },
  {
   "cell_type": "code",
   "execution_count": 35,
   "id": "6c46bda1-f8bc-4646-94a1-9f1f6739ddcc",
   "metadata": {},
   "outputs": [
    {
     "name": "stdout",
     "output_type": "stream",
     "text": [
      "Covariance Matrix:\n",
      "[[22.5 22.5 22.5]\n",
      " [22.5 22.5 22.5]\n",
      " [22.5 22.5 22.5]]\n",
      "\n",
      "Correlation Matrix:\n",
      "[[1. 1. 1.]\n",
      " [1. 1. 1.]\n",
      " [1. 1. 1.]]\n"
     ]
    }
   ],
   "source": [
    "import numpy as np\n",
    "\n",
    "# Create a matrix where each column is a feature and each row is a sample\n",
    "matrix = np.array([[1, 2, 3],\n",
    "                   [4, 5, 6],\n",
    "                   [7, 8, 9],\n",
    "                   [10, 11, 12],\n",
    "                   [13, 14, 15]])\n",
    "\n",
    "# Compute the covariance matrix (with rows as variables)\n",
    "cov_matrix = np.cov(matrix, rowvar=False)\n",
    "\n",
    "# Compute the correlation matrix (with rows as variables)\n",
    "corr_matrix = np.corrcoef(matrix, rowvar=False)\n",
    "\n",
    "# Print the results\n",
    "print(\"Covariance Matrix:\")\n",
    "print(cov_matrix)\n",
    "print(\"\\nCorrelation Matrix:\")\n",
    "print(corr_matrix)\n"
   ]
  },
  {
   "cell_type": "code",
   "execution_count": null,
   "id": "0b0c8e26-8760-4372-bc61-6f7236634a31",
   "metadata": {},
   "outputs": [],
   "source": []
  }
 ],
 "metadata": {
  "kernelspec": {
   "display_name": "Python 3 (ipykernel)",
   "language": "python",
   "name": "python3"
  },
  "language_info": {
   "codemirror_mode": {
    "name": "ipython",
    "version": 3
   },
   "file_extension": ".py",
   "mimetype": "text/x-python",
   "name": "python",
   "nbconvert_exporter": "python",
   "pygments_lexer": "ipython3",
   "version": "3.12.4"
  }
 },
 "nbformat": 4,
 "nbformat_minor": 5
}
